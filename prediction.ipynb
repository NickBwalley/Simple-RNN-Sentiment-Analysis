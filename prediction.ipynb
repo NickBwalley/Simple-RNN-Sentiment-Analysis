{
 "cells": [
  {
   "cell_type": "code",
   "execution_count": 1,
   "metadata": {},
   "outputs": [],
   "source": [
    "# Step 1: Import Libraries and Load the Model\n",
    "import numpy as np\n",
    "import tensorflow as tf\n",
    "from tensorflow.keras.datasets import imdb\n",
    "from tensorflow.keras.preprocessing import sequence\n",
    "from tensorflow.keras.models import load_model"
   ]
  },
  {
   "cell_type": "code",
   "execution_count": 2,
   "metadata": {},
   "outputs": [],
   "source": [
    "\n",
    "# Load the IMDB dataset word index\n",
    "word_index = imdb.get_word_index()\n",
    "reverse_word_index = {value: key for key, value in word_index.items()}"
   ]
  },
  {
   "cell_type": "code",
   "execution_count": 3,
   "metadata": {},
   "outputs": [
    {
     "name": "stderr",
     "output_type": "stream",
     "text": [
      "WARNING:absl:Compiled the loaded model, but the compiled metrics have yet to be built. `model.compile_metrics` will be empty until you train or evaluate the model.\n"
     ]
    },
    {
     "data": {
      "text/html": [
       "<pre style=\"white-space:pre;overflow-x:auto;line-height:normal;font-family:Menlo,'DejaVu Sans Mono',consolas,'Courier New',monospace\"><span style=\"font-weight: bold\">Model: \"sequential_1\"</span>\n",
       "</pre>\n"
      ],
      "text/plain": [
       "\u001b[1mModel: \"sequential_1\"\u001b[0m\n"
      ]
     },
     "metadata": {},
     "output_type": "display_data"
    },
    {
     "data": {
      "text/html": [
       "<pre style=\"white-space:pre;overflow-x:auto;line-height:normal;font-family:Menlo,'DejaVu Sans Mono',consolas,'Courier New',monospace\">┏━━━━━━━━━━━━━━━━━━━━━━━━━━━━━━━━━┳━━━━━━━━━━━━━━━━━━━━━━━━┳━━━━━━━━━━━━━━━┓\n",
       "┃<span style=\"font-weight: bold\"> Layer (type)                    </span>┃<span style=\"font-weight: bold\"> Output Shape           </span>┃<span style=\"font-weight: bold\">       Param # </span>┃\n",
       "┡━━━━━━━━━━━━━━━━━━━━━━━━━━━━━━━━━╇━━━━━━━━━━━━━━━━━━━━━━━━╇━━━━━━━━━━━━━━━┩\n",
       "│ embedding_1 (<span style=\"color: #0087ff; text-decoration-color: #0087ff\">Embedding</span>)         │ (<span style=\"color: #00d7ff; text-decoration-color: #00d7ff\">None</span>, <span style=\"color: #00af00; text-decoration-color: #00af00\">500</span>, <span style=\"color: #00af00; text-decoration-color: #00af00\">128</span>)       │     <span style=\"color: #00af00; text-decoration-color: #00af00\">1,280,000</span> │\n",
       "├─────────────────────────────────┼────────────────────────┼───────────────┤\n",
       "│ simple_rnn_1 (<span style=\"color: #0087ff; text-decoration-color: #0087ff\">SimpleRNN</span>)        │ (<span style=\"color: #00d7ff; text-decoration-color: #00d7ff\">None</span>, <span style=\"color: #00af00; text-decoration-color: #00af00\">128</span>)            │        <span style=\"color: #00af00; text-decoration-color: #00af00\">32,896</span> │\n",
       "├─────────────────────────────────┼────────────────────────┼───────────────┤\n",
       "│ dense_1 (<span style=\"color: #0087ff; text-decoration-color: #0087ff\">Dense</span>)                 │ (<span style=\"color: #00d7ff; text-decoration-color: #00d7ff\">None</span>, <span style=\"color: #00af00; text-decoration-color: #00af00\">1</span>)              │           <span style=\"color: #00af00; text-decoration-color: #00af00\">129</span> │\n",
       "└─────────────────────────────────┴────────────────────────┴───────────────┘\n",
       "</pre>\n"
      ],
      "text/plain": [
       "┏━━━━━━━━━━━━━━━━━━━━━━━━━━━━━━━━━┳━━━━━━━━━━━━━━━━━━━━━━━━┳━━━━━━━━━━━━━━━┓\n",
       "┃\u001b[1m \u001b[0m\u001b[1mLayer (type)                   \u001b[0m\u001b[1m \u001b[0m┃\u001b[1m \u001b[0m\u001b[1mOutput Shape          \u001b[0m\u001b[1m \u001b[0m┃\u001b[1m \u001b[0m\u001b[1m      Param #\u001b[0m\u001b[1m \u001b[0m┃\n",
       "┡━━━━━━━━━━━━━━━━━━━━━━━━━━━━━━━━━╇━━━━━━━━━━━━━━━━━━━━━━━━╇━━━━━━━━━━━━━━━┩\n",
       "│ embedding_1 (\u001b[38;5;33mEmbedding\u001b[0m)         │ (\u001b[38;5;45mNone\u001b[0m, \u001b[38;5;34m500\u001b[0m, \u001b[38;5;34m128\u001b[0m)       │     \u001b[38;5;34m1,280,000\u001b[0m │\n",
       "├─────────────────────────────────┼────────────────────────┼───────────────┤\n",
       "│ simple_rnn_1 (\u001b[38;5;33mSimpleRNN\u001b[0m)        │ (\u001b[38;5;45mNone\u001b[0m, \u001b[38;5;34m128\u001b[0m)            │        \u001b[38;5;34m32,896\u001b[0m │\n",
       "├─────────────────────────────────┼────────────────────────┼───────────────┤\n",
       "│ dense_1 (\u001b[38;5;33mDense\u001b[0m)                 │ (\u001b[38;5;45mNone\u001b[0m, \u001b[38;5;34m1\u001b[0m)              │           \u001b[38;5;34m129\u001b[0m │\n",
       "└─────────────────────────────────┴────────────────────────┴───────────────┘\n"
      ]
     },
     "metadata": {},
     "output_type": "display_data"
    },
    {
     "data": {
      "text/html": [
       "<pre style=\"white-space:pre;overflow-x:auto;line-height:normal;font-family:Menlo,'DejaVu Sans Mono',consolas,'Courier New',monospace\"><span style=\"font-weight: bold\"> Total params: </span><span style=\"color: #00af00; text-decoration-color: #00af00\">1,313,027</span> (5.01 MB)\n",
       "</pre>\n"
      ],
      "text/plain": [
       "\u001b[1m Total params: \u001b[0m\u001b[38;5;34m1,313,027\u001b[0m (5.01 MB)\n"
      ]
     },
     "metadata": {},
     "output_type": "display_data"
    },
    {
     "data": {
      "text/html": [
       "<pre style=\"white-space:pre;overflow-x:auto;line-height:normal;font-family:Menlo,'DejaVu Sans Mono',consolas,'Courier New',monospace\"><span style=\"font-weight: bold\"> Trainable params: </span><span style=\"color: #00af00; text-decoration-color: #00af00\">1,313,025</span> (5.01 MB)\n",
       "</pre>\n"
      ],
      "text/plain": [
       "\u001b[1m Trainable params: \u001b[0m\u001b[38;5;34m1,313,025\u001b[0m (5.01 MB)\n"
      ]
     },
     "metadata": {},
     "output_type": "display_data"
    },
    {
     "data": {
      "text/html": [
       "<pre style=\"white-space:pre;overflow-x:auto;line-height:normal;font-family:Menlo,'DejaVu Sans Mono',consolas,'Courier New',monospace\"><span style=\"font-weight: bold\"> Non-trainable params: </span><span style=\"color: #00af00; text-decoration-color: #00af00\">0</span> (0.00 B)\n",
       "</pre>\n"
      ],
      "text/plain": [
       "\u001b[1m Non-trainable params: \u001b[0m\u001b[38;5;34m0\u001b[0m (0.00 B)\n"
      ]
     },
     "metadata": {},
     "output_type": "display_data"
    },
    {
     "data": {
      "text/html": [
       "<pre style=\"white-space:pre;overflow-x:auto;line-height:normal;font-family:Menlo,'DejaVu Sans Mono',consolas,'Courier New',monospace\"><span style=\"font-weight: bold\"> Optimizer params: </span><span style=\"color: #00af00; text-decoration-color: #00af00\">2</span> (12.00 B)\n",
       "</pre>\n"
      ],
      "text/plain": [
       "\u001b[1m Optimizer params: \u001b[0m\u001b[38;5;34m2\u001b[0m (12.00 B)\n"
      ]
     },
     "metadata": {},
     "output_type": "display_data"
    }
   ],
   "source": [
    "# Load the pre-trained model with ReLU activation\n",
    "model = load_model('simple_rnn_imdb.h5')\n",
    "model.summary()"
   ]
  },
  {
   "cell_type": "code",
   "execution_count": 4,
   "metadata": {},
   "outputs": [
    {
     "data": {
      "text/plain": [
       "[array([[-0.78232807, -0.4696918 , -0.43453887, ...,  0.46913576,\n",
       "         -0.7203655 , -0.12099226],\n",
       "        [-0.07875037,  0.01854491,  0.0089704 , ...,  0.08830594,\n",
       "         -0.01728059,  0.06383919],\n",
       "        [-0.04672796, -0.07268829, -0.06683847, ..., -0.01113813,\n",
       "          0.05936871,  0.03008315],\n",
       "        ...,\n",
       "        [ 0.07208642,  0.00335242,  0.0423018 , ..., -0.01130764,\n",
       "          0.0273909 ,  0.02733285],\n",
       "        [-0.086378  , -0.02147482,  0.02341124, ..., -0.07699236,\n",
       "         -0.02071041,  0.1730333 ],\n",
       "        [-0.05994996,  0.09311652,  0.06409039, ..., -0.0946804 ,\n",
       "          0.14346196, -0.05029255]], dtype=float32),\n",
       " array([[-0.10995259,  0.07310891, -0.03189095, ...,  0.00451202,\n",
       "         -0.08703328,  0.05212491],\n",
       "        [ 0.11748479, -0.04883659,  0.01773228, ...,  0.1334454 ,\n",
       "         -0.09102198, -0.08544712],\n",
       "        [ 0.15889566,  0.11598194,  0.10421681, ..., -0.07592772,\n",
       "         -0.08306349, -0.06603199],\n",
       "        ...,\n",
       "        [-0.01880419,  0.0076193 ,  0.14392295, ...,  0.06952235,\n",
       "          0.02600406, -0.11139666],\n",
       "        [ 0.07720482, -0.16040489, -0.06130859, ..., -0.06367563,\n",
       "         -0.11836399,  0.09794617],\n",
       "        [ 0.13245577, -0.01387361,  0.07148188, ...,  0.05170532,\n",
       "          0.00881014,  0.08106045]], dtype=float32),\n",
       " array([[-0.03130862, -0.07866777, -0.03523256, ...,  0.04110108,\n",
       "         -0.10089498,  0.04236502],\n",
       "        [-0.01750053, -0.07168509, -0.01416262, ..., -0.011393  ,\n",
       "          0.01792111, -0.03678811],\n",
       "        [-0.10270657,  0.04507597,  0.00516417, ...,  0.00277517,\n",
       "          0.15887958, -0.02118452],\n",
       "        ...,\n",
       "        [-0.06031672,  0.04212591, -0.11791363, ..., -0.12337155,\n",
       "          0.04661314, -0.00539028],\n",
       "        [ 0.09282972,  0.01869859,  0.01094743, ..., -0.11821876,\n",
       "          0.12850374,  0.14069946],\n",
       "        [-0.0909004 ,  0.11663561, -0.12119232, ...,  0.12135665,\n",
       "         -0.05743195, -0.01962326]], dtype=float32),\n",
       " array([ 0.03883376,  0.03031083, -0.02606414, -0.03937457, -0.0362875 ,\n",
       "         0.02564099, -0.01480968,  0.03372012,  0.03734151,  0.01529641,\n",
       "         0.0015563 , -0.00772404, -0.04398002, -0.03194724,  0.03534154,\n",
       "        -0.01335777, -0.02328131,  0.03055713, -0.02182132, -0.03364732,\n",
       "         0.01189846,  0.01875843, -0.0033932 ,  0.05338113, -0.00256599,\n",
       "        -0.02486626,  0.03740831,  0.04910887,  0.00466124,  0.02166027,\n",
       "         0.04219204, -0.02563721, -0.05137248, -0.03858575, -0.02780276,\n",
       "         0.01159115,  0.03085584, -0.03147189,  0.00311068,  0.03015612,\n",
       "         0.02778775, -0.03806552, -0.000502  , -0.01022239, -0.0249601 ,\n",
       "        -0.07061955,  0.01317179,  0.03537689, -0.0286489 , -0.02308951,\n",
       "         0.01996784,  0.02586561,  0.00871968,  0.02575622, -0.00049804,\n",
       "        -0.00058265,  0.01867949, -0.03577115, -0.02963588, -0.02287959,\n",
       "        -0.05155767,  0.01175741, -0.02755794,  0.02177209, -0.01929602,\n",
       "         0.02717911, -0.02479299, -0.014496  ,  0.02429282,  0.03058279,\n",
       "        -0.00847945,  0.01645013,  0.00724681, -0.01842354,  0.01181975,\n",
       "         0.06921345, -0.02388951,  0.03019781, -0.03508573,  0.01778641,\n",
       "        -0.00383206,  0.02767647,  0.01687503,  0.03819033, -0.01845351,\n",
       "        -0.05790111, -0.02210711, -0.00182291,  0.00268529,  0.02885922,\n",
       "         0.03049236,  0.00746315, -0.01378321, -0.0137795 ,  0.01134289,\n",
       "         0.0070871 , -0.02531138, -0.03062257, -0.05281495, -0.00791078,\n",
       "         0.04187586, -0.01885612, -0.03967008, -0.00163261, -0.03814426,\n",
       "        -0.01542441, -0.01703551, -0.03430905, -0.04756027, -0.02401567,\n",
       "         0.02445115,  0.04697308,  0.03005677, -0.0011002 , -0.0179138 ,\n",
       "        -0.03003833,  0.00734077,  0.03938654, -0.07131287, -0.02953936,\n",
       "        -0.02881489,  0.02215391,  0.01647651, -0.02578945,  0.01036287,\n",
       "        -0.00677768,  0.03170459, -0.00990597], dtype=float32),\n",
       " array([[-0.10011605],\n",
       "        [-0.08233485],\n",
       "        [-0.03082523],\n",
       "        [ 0.13569786],\n",
       "        [ 0.01697583],\n",
       "        [-0.18311429],\n",
       "        [ 0.00828138],\n",
       "        [ 0.1032945 ],\n",
       "        [-0.14878166],\n",
       "        [-0.14662263],\n",
       "        [-0.0503143 ],\n",
       "        [ 0.00618085],\n",
       "        [ 0.04047453],\n",
       "        [ 0.12109137],\n",
       "        [-0.83046204],\n",
       "        [ 0.08454732],\n",
       "        [ 0.16162886],\n",
       "        [-0.14015907],\n",
       "        [ 0.07976674],\n",
       "        [ 0.13213429],\n",
       "        [ 0.08351856],\n",
       "        [ 0.14180727],\n",
       "        [ 0.06185419],\n",
       "        [-0.16781452],\n",
       "        [-0.1062205 ],\n",
       "        [ 0.19118468],\n",
       "        [-0.15512954],\n",
       "        [-0.22989617],\n",
       "        [ 0.1153895 ],\n",
       "        [ 0.07599168],\n",
       "        [ 0.34631658],\n",
       "        [ 0.90896064],\n",
       "        [ 0.00263625],\n",
       "        [-0.03904632],\n",
       "        [ 0.0526197 ],\n",
       "        [ 0.02640933],\n",
       "        [-0.10853656],\n",
       "        [ 0.20008108],\n",
       "        [-0.23402402],\n",
       "        [ 0.13381277],\n",
       "        [ 0.09163954],\n",
       "        [ 0.62604165],\n",
       "        [ 0.15225363],\n",
       "        [-0.07562762],\n",
       "        [ 0.03908972],\n",
       "        [ 0.2689013 ],\n",
       "        [ 0.08162864],\n",
       "        [-0.18178268],\n",
       "        [ 0.06625287],\n",
       "        [-0.0249996 ],\n",
       "        [-0.24319428],\n",
       "        [-0.13138373],\n",
       "        [-0.0843123 ],\n",
       "        [ 0.10909106],\n",
       "        [ 0.02236025],\n",
       "        [ 0.1302577 ],\n",
       "        [ 0.20828925],\n",
       "        [ 0.13794152],\n",
       "        [-0.03271945],\n",
       "        [-0.18028012],\n",
       "        [ 0.07840609],\n",
       "        [-0.11305861],\n",
       "        [ 0.15607423],\n",
       "        [ 0.13486356],\n",
       "        [-0.00293455],\n",
       "        [-0.0010025 ],\n",
       "        [ 0.19302993],\n",
       "        [-0.00465995],\n",
       "        [-0.06964091],\n",
       "        [ 0.05755476],\n",
       "        [ 0.16201572],\n",
       "        [-0.05789162],\n",
       "        [ 0.19694827],\n",
       "        [-0.00257062],\n",
       "        [-0.08601502],\n",
       "        [-0.15992396],\n",
       "        [-0.08338324],\n",
       "        [ 0.09963092],\n",
       "        [-0.17528449],\n",
       "        [ 0.01577028],\n",
       "        [ 0.20300914],\n",
       "        [-0.12431221],\n",
       "        [-0.04324138],\n",
       "        [-0.11949095],\n",
       "        [-0.63585097],\n",
       "        [-0.05501327],\n",
       "        [-0.22915156],\n",
       "        [-0.06519029],\n",
       "        [-0.10598198],\n",
       "        [-0.02581064],\n",
       "        [ 0.04379085],\n",
       "        [-0.1119296 ],\n",
       "        [-0.25438526],\n",
       "        [ 0.62047076],\n",
       "        [-0.13166243],\n",
       "        [-0.12525868],\n",
       "        [ 0.38793406],\n",
       "        [ 0.03132281],\n",
       "        [ 0.16458155],\n",
       "        [-0.00479954],\n",
       "        [-0.16063568],\n",
       "        [-0.0237652 ],\n",
       "        [ 0.10537349],\n",
       "        [ 0.03795264],\n",
       "        [-0.08644313],\n",
       "        [ 0.09778493],\n",
       "        [ 0.02598488],\n",
       "        [ 0.25412637],\n",
       "        [-0.15080923],\n",
       "        [ 0.19142188],\n",
       "        [-0.14621964],\n",
       "        [-0.00982538],\n",
       "        [ 0.06540722],\n",
       "        [ 0.37545773],\n",
       "        [ 0.13079138],\n",
       "        [ 0.13501541],\n",
       "        [-0.41190782],\n",
       "        [-0.13089857],\n",
       "        [ 0.51387966],\n",
       "        [-0.12602384],\n",
       "        [ 0.1195641 ],\n",
       "        [ 0.01412098],\n",
       "        [-0.0803202 ],\n",
       "        [ 0.05801458],\n",
       "        [ 0.2579562 ],\n",
       "        [-0.05734067],\n",
       "        [-0.18474624],\n",
       "        [ 0.10412236]], dtype=float32),\n",
       " array([1.4931537], dtype=float32)]"
      ]
     },
     "execution_count": 4,
     "metadata": {},
     "output_type": "execute_result"
    }
   ],
   "source": [
    "model.get_weights()"
   ]
  },
  {
   "cell_type": "code",
   "execution_count": 5,
   "metadata": {},
   "outputs": [],
   "source": [
    "# Step 2: Helper Functions\n",
    "# Function to decode reviews\n",
    "def decode_review(encoded_review):\n",
    "    return ' '.join([reverse_word_index.get(i - 3, '?') for i in encoded_review])\n",
    "\n",
    "# Function to preprocess user input\n",
    "def preprocess_text(text):\n",
    "    words = text.lower().split()\n",
    "    encoded_review = [word_index.get(word, 2) + 3 for word in words]\n",
    "    padded_review = sequence.pad_sequences([encoded_review], maxlen=500)\n",
    "    return padded_review"
   ]
  },
  {
   "cell_type": "code",
   "execution_count": 6,
   "metadata": {},
   "outputs": [],
   "source": [
    "### Prediction  function\n",
    "\n",
    "def predict_sentiment(review):\n",
    "    preprocessed_input=preprocess_text(review)\n",
    "\n",
    "    prediction=model.predict(preprocessed_input)\n",
    "\n",
    "    sentiment = 'Positive' if prediction[0][0] > 0.5 else 'Negative'\n",
    "    \n",
    "    return sentiment, prediction[0][0]\n",
    "\n"
   ]
  },
  {
   "cell_type": "code",
   "execution_count": 7,
   "metadata": {},
   "outputs": [
    {
     "name": "stdout",
     "output_type": "stream",
     "text": [
      "\u001b[1m1/1\u001b[0m \u001b[32m━━━━━━━━━━━━━━━━━━━━\u001b[0m\u001b[37m\u001b[0m \u001b[1m0s\u001b[0m 200ms/step\n",
      "Review: This movie was fantastic! The acting was great and the plot was thrilling.\n",
      "Sentiment: Positive\n",
      "Prediction Score: 0.6289758682250977\n"
     ]
    }
   ],
   "source": [
    "# Step 4: User Input and Prediction\n",
    "# Example review for prediction\n",
    "example_review = \"This movie was fantastic! The acting was great and the plot was thrilling.\"\n",
    "\n",
    "sentiment,score=predict_sentiment(example_review)\n",
    "\n",
    "print(f'Review: {example_review}')\n",
    "print(f'Sentiment: {sentiment}')\n",
    "print(f'Prediction Score: {score}')"
   ]
  },
  {
   "cell_type": "code",
   "execution_count": null,
   "metadata": {},
   "outputs": [],
   "source": []
  },
  {
   "cell_type": "code",
   "execution_count": null,
   "metadata": {},
   "outputs": [],
   "source": []
  },
  {
   "cell_type": "code",
   "execution_count": null,
   "metadata": {},
   "outputs": [],
   "source": []
  },
  {
   "cell_type": "code",
   "execution_count": null,
   "metadata": {},
   "outputs": [],
   "source": []
  }
 ],
 "metadata": {
  "kernelspec": {
   "display_name": "Python 3",
   "language": "python",
   "name": "python3"
  },
  "language_info": {
   "codemirror_mode": {
    "name": "ipython",
    "version": 3
   },
   "file_extension": ".py",
   "mimetype": "text/x-python",
   "name": "python",
   "nbconvert_exporter": "python",
   "pygments_lexer": "ipython3",
   "version": "3.11.11"
  }
 },
 "nbformat": 4,
 "nbformat_minor": 2
}
